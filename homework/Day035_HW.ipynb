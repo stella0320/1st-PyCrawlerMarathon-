{
 "cells": [
  {
   "cell_type": "markdown",
   "metadata": {},
   "source": [
    "# 加速：多線程爬蟲\n",
    "\n",
    "\n",
    "\n",
    "* 了解知乎 API 使用方式與回傳內容\n",
    "* 撰寫程式存取 API 且添加標頭"
   ]
  },
  {
   "cell_type": "markdown",
   "metadata": {},
   "source": [
    "## 作業目標\n",
    "\n",
    "* 找一個之前實作過的爬蟲改用多線程改寫，比較前後時間的差異。\n",
    "\n",
    "\n",
    "\n"
   ]
  },
  {
   "cell_type": "code",
   "execution_count": 11,
   "metadata": {},
   "outputs": [],
   "source": [
    "from selenium import webdriver\n",
    "from selenium.webdriver.support.ui import Select\n",
    "from bs4 import BeautifulSoup\n",
    "import time\n",
    "\n",
    "def getLocationAirData(location, year):\n",
    "    location = str(location)\n",
    "    year = str(year)\n",
    "    browser = webdriver.Chrome(executable_path='chromedriver')\n",
    "    browser.get(\"http://taqm.epa.gov.tw/taqm/tw/MonthlyAverage.aspx\")\n",
    "    selectSite = Select(browser.find_element_by_id(\"ctl05_ddlSite\"))\n",
    "    selectSite.select_by_value(location)\n",
    "    selectYear = Select(browser.find_element_by_id(\"ctl05_ddlYear\"))\n",
    "    selectYear.select_by_value(year)\n",
    "    browser.find_element_by_id('ctl05_btnQuery').click()\n",
    "    soup = BeautifulSoup(browser.page_source, 'html.parser')\n",
    "    table = soup.find('table', class_='TABLE_G')\n",
    "    print(location + ';' + year + ' finish.')\n",
    "    time.sleep(5)\n"
   ]
  },
  {
   "cell_type": "code",
   "execution_count": 16,
   "metadata": {},
   "outputs": [
    {
     "name": "stdout",
     "output_type": "stream",
     "text": [
      "0.0\n",
      "58;2017 finish.\n",
      "58;2014 finish.\n",
      "58;2016 finish.\n"
     ]
    },
    {
     "name": "stderr",
     "output_type": "stream",
     "text": [
      "Unhandled exception in thread started by <function getLocationAirData at 0x0000019BA30AE048>\n",
      "Unhandled exception in thread started by <function getLocationAirData at 0x0000019BA30AE048>\n"
     ]
    }
   ],
   "source": [
    "# 多執行緒\n",
    "import _thread\n",
    "start_time = time.time();\n",
    "for i in range(0, 5, 1):\n",
    "    _thread.start_new_thread(getLocationAirData, (58 , 2014 + i, ) )\n",
    "end_time = time.time();\n",
    "print(end_time - start_time)"
   ]
  },
  {
   "cell_type": "code",
   "execution_count": 15,
   "metadata": {},
   "outputs": [
    {
     "name": "stdout",
     "output_type": "stream",
     "text": [
      "58;2014 finish.\n",
      "58;2015 finish.\n",
      "58;2016 finish.\n",
      "58;2017 finish.\n",
      "58;2018 finish.\n",
      "68.69193649291992\n"
     ]
    }
   ],
   "source": [
    "# 非多執行緒\n",
    "start_time = time.time();\n",
    "for i in range(0, 5, 1):\n",
    "    getLocationAirData(58, 2014 + i)\n",
    "end_time = time.time();\n",
    "print(end_time - start_time)"
   ]
  },
  {
   "cell_type": "code",
   "execution_count": null,
   "metadata": {},
   "outputs": [],
   "source": []
  }
 ],
 "metadata": {
  "colab": {
   "name": "homework.ipynb",
   "provenance": []
  },
  "kernelspec": {
   "display_name": "Python 3",
   "language": "python",
   "name": "python3"
  },
  "language_info": {
   "codemirror_mode": {
    "name": "ipython",
    "version": 3
   },
   "file_extension": ".py",
   "mimetype": "text/x-python",
   "name": "python",
   "nbconvert_exporter": "python",
   "pygments_lexer": "ipython3",
   "version": "3.6.5"
  }
 },
 "nbformat": 4,
 "nbformat_minor": 1
}
