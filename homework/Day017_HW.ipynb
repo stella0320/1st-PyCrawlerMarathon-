{
 "cells": [
  {
   "cell_type": "markdown",
   "metadata": {},
   "source": [
    "# HTTP 動態網頁架構說明\n",
    "\n",
    "\n",
    "* 了解動態網頁的資料爬蟲策略\n",
    "* 知道非同步網頁載入機制（Ajax）\n",
    "* 學習兩種對應動態網頁爬蟲的的策略\n"
   ]
  },
  {
   "cell_type": "markdown",
   "metadata": {},
   "source": [
    "## 作業目標\n",
    "\n",
    "回答以下問題：\n",
    "\n",
    "1. 動態網頁跟靜態網頁的差別是什麼？原本靜態網頁的做法會產生什麼問題或是缺點？\n",
    "2. 還記得我們在 ETTODAY 靜態爬蟲實作練習中，有請大家完成一個題目「取出今天所有的發文」，但仔細看其實並沒有真的把當天所有的新聞都抓回來， 試著回答看看原因是什麼？及該如何檢查？\n"
   ]
  },
  {
   "cell_type": "markdown",
   "metadata": {},
   "source": [
    "### 1. 動態網頁跟靜態網頁的差別是什麼？原本靜態網頁的做法會產生什麼問題或是缺點？"
   ]
  },
  {
   "cell_type": "markdown",
   "metadata": {},
   "source": [
    "<h4>靜態網頁:是網頁元件與資料一起在前端顯示。</h4>\n",
    "<h4>動態網頁:是使用非同步ajax到後端呼叫api回傳資料在前端顯示。</h4>\n",
    "<h4>使用靜態網頁，會一次將所有資料從後端呼叫到前端，效能會較差。</h4>"
   ]
  },
  {
   "cell_type": "markdown",
   "metadata": {},
   "source": [
    "### 2. 還記得我們在 ETTODAY 靜態爬蟲實作練習中，有請大家完成一個題目「取出今天所有的發文」，但仔細看其實並沒有真的把當天所有的新聞都抓回來， 試著回答看看原因是什麼？及該如何檢查？"
   ]
  },
  {
   "cell_type": "markdown",
   "metadata": {},
   "source": [
    "<h4>他應該是使用ajax將資料從後端以分頁形式將資料傳至前端，所以前端只能看到一部份資料。</h4>\n",
    "<h4>可以使用chrome開發人員工具觀察到，網頁request的url，會傳送分頁的參數，就可以知道它是只傳一部分資料。</h4>"
   ]
  },
  {
   "cell_type": "code",
   "execution_count": null,
   "metadata": {},
   "outputs": [],
   "source": []
  },
  {
   "cell_type": "code",
   "execution_count": null,
   "metadata": {},
   "outputs": [],
   "source": []
  }
 ],
 "metadata": {
  "kernelspec": {
   "display_name": "Python 3",
   "language": "python",
   "name": "python3"
  },
  "language_info": {
   "codemirror_mode": {
    "name": "ipython",
    "version": 3
   },
   "file_extension": ".py",
   "mimetype": "text/x-python",
   "name": "python",
   "nbconvert_exporter": "python",
   "pygments_lexer": "ipython3",
   "version": "3.6.5"
  }
 },
 "nbformat": 4,
 "nbformat_minor": 2
}
