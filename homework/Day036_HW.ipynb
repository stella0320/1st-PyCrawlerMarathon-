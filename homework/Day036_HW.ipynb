{
 "cells": [
  {
   "cell_type": "markdown",
   "metadata": {},
   "source": [
    "# 加速：非同步爬蟲\n",
    "\n",
    "* 了解非同步爬蟲加速原理與實作"
   ]
  },
  {
   "cell_type": "markdown",
   "metadata": {},
   "source": [
    "## 作業目標\n",
    "\n",
    "* 比較一下非同步爬蟲跟多線程爬蟲的差異是什麼？各自的優缺點為何？"
   ]
  },
  {
   "cell_type": "markdown",
   "metadata": {
    "scrolled": true
   },
   "source": [
    "### 非同步爬蟲\n",
    "#### 優點: client端發出request之後，不用等到server端回repsonse，client可以繼續發送下一個request，可以節省request等待response的時間。\n",
    "#### 缺點: 如果用單一線程執行非同步爬蟲的話，記憶體可能會在集中時間內會被使用，當記憶體不夠用，程式就會卡住。\n",
    "\n",
    "### 多線程爬蟲\n",
    "#### 優點: 可以使用的多個核心記憶體去執行多段程式，不易因為記憶體使用不足程式而故障。\n",
    "#### 缺點: client端發出request之後，需要等到server端回repsonse，client才可繼續發送下一個request，這樣會多了request等待response的時間。"
   ]
  },
  {
   "cell_type": "code",
   "execution_count": null,
   "metadata": {},
   "outputs": [],
   "source": []
  }
 ],
 "metadata": {
  "colab": {
   "name": "homework.ipynb",
   "provenance": []
  },
  "kernelspec": {
   "display_name": "Python 3",
   "language": "python",
   "name": "python3"
  },
  "language_info": {
   "codemirror_mode": {
    "name": "ipython",
    "version": 3
   },
   "file_extension": ".py",
   "mimetype": "text/x-python",
   "name": "python",
   "nbconvert_exporter": "python",
   "pygments_lexer": "ipython3",
   "version": "3.6.5"
  }
 },
 "nbformat": 4,
 "nbformat_minor": 1
}
