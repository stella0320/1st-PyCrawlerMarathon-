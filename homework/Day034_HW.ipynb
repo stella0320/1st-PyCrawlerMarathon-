{
 "cells": [
  {
   "cell_type": "markdown",
   "metadata": {
    "colab_type": "text",
    "id": "I8CoX4R7VoCd"
   },
   "source": [
    "# 反爬：代理伺服器/IP\n",
    "\n",
    "* 了解「IP 黑/白名單」的反爬蟲機制\n",
    "* 「IP 黑/白名單」反爬蟲的因應策略"
   ]
  },
  {
   "cell_type": "markdown",
   "metadata": {
    "colab_type": "text",
    "id": "n-3DZ_r5VoCe"
   },
   "source": [
    "## 作業目標\n",
    "\n",
    "* 目前程式中的 proxy_ips 是手動輸入的，請根據 https://free-proxy-list.net/ 寫一個可自動化抓取可用 Proxy 的 proxy_ips。\n",
    "\n",
    "\n"
   ]
  },
  {
   "cell_type": "code",
   "execution_count": 40,
   "metadata": {
    "colab": {},
    "colab_type": "code",
    "id": "iny-9heBVoCf"
   },
   "outputs": [
    {
     "data": {
      "text/plain": [
       "['144.76.134.113:80',\n",
       " '83.97.111.202:41258',\n",
       " '51.38.184.52:8080',\n",
       " '109.201.9.99:8080',\n",
       " '41.164.247.186:53281',\n",
       " '200.52.141.162:53281',\n",
       " '103.65.194.2:35782',\n",
       " '182.253.31.82:8080',\n",
       " '80.232.126.94:8080',\n",
       " '104.248.121.34:8118',\n",
       " '176.235.99.37:9090',\n",
       " '181.30.28.14:3128',\n",
       " '37.220.195.14:53281',\n",
       " '78.8.126.198:8080',\n",
       " '201.64.22.50:80',\n",
       " '182.52.51.17:34871',\n",
       " '45.230.176.4:61630',\n",
       " '200.116.198.180:43407',\n",
       " '109.167.113.9:59606',\n",
       " '36.89.182.193:39382']"
      ]
     },
     "execution_count": 40,
     "metadata": {},
     "output_type": "execute_result"
    }
   ],
   "source": [
    "import requests\n",
    "from bs4 import BeautifulSoup\n",
    "res = requests.get('https://free-proxy-list.net/')\n",
    "html = BeautifulSoup(res.text, 'html5lib')\n",
    "proxy_ips = [tag.findAll('td')[0].text.strip() + ':' + tag.findAll('td')[1].text.strip() for tag in html.find('table').find('tbody').findAll('tr')][0:20]\n",
    "proxy_ips"
   ]
  },
  {
   "cell_type": "code",
   "execution_count": 44,
   "metadata": {
    "colab": {},
    "colab_type": "code",
    "id": "75dIsHjiVoCi"
   },
   "outputs": [
    {
     "name": "stdout",
     "output_type": "stream",
     "text": [
      "Use 45.230.176.4:61630\n",
      "Your IP address: 45.230.176.4\n",
      "Use 103.65.194.2:35782\n",
      "Fail\n",
      "Use 103.65.194.2:35782\n",
      "Fail\n",
      "Use 200.116.198.180:43407\n",
      "Fail\n",
      "Use 41.164.247.186:53281\n",
      "Your IP address: 41.164.247.186\n"
     ]
    }
   ],
   "source": [
    "import random\n",
    "for i in range(5):\n",
    "    ip = random.choice(proxy_ips)\n",
    "    print('Use', ip)\n",
    "    try:\n",
    "        resp = requests.get('http://ip.filefab.com/index.php',\n",
    "                        proxies={'http': 'http://' + ip, 'https': 'https://' + ip}, timeout=10)\n",
    "        soup = BeautifulSoup(resp.text, 'html5lib')\n",
    "        print(soup.find('h1', id='ipd').text.strip())\n",
    "    except:\n",
    "        print('Fail')"
   ]
  },
  {
   "cell_type": "code",
   "execution_count": null,
   "metadata": {},
   "outputs": [],
   "source": []
  }
 ],
 "metadata": {
  "colab": {
   "name": "homework.ipynb",
   "provenance": []
  },
  "kernelspec": {
   "display_name": "Python 3",
   "language": "python",
   "name": "python3"
  },
  "language_info": {
   "codemirror_mode": {
    "name": "ipython",
    "version": 3
   },
   "file_extension": ".py",
   "mimetype": "text/x-python",
   "name": "python",
   "nbconvert_exporter": "python",
   "pygments_lexer": "ipython3",
   "version": "3.6.5"
  }
 },
 "nbformat": 4,
 "nbformat_minor": 1
}
