{
 "cells": [
  {
   "cell_type": "markdown",
   "metadata": {},
   "source": [
    "# API 資料串接 - 以 Dcard API 實作範例\n",
    "\n",
    "* 了解 Dcard API 使用方式與回傳內容\n",
    "* 撰寫程式存取 API 且解析 JSON 格式資料\n"
   ]
  },
  {
   "cell_type": "markdown",
   "metadata": {},
   "source": [
    "## 作業目標\n",
    "\n",
    "* 請利用 API: https://www.dcard.tw/_api/forums/pet/posts?popular=true 回答下列問題：\n",
    "\n",
    "1. 這個 API 一次會回傳幾筆資料？每一筆資料包含哪些欄位？\n",
    "2. 取出每一筆資料的「標題」、「貼文時間」、「留言人數」、「按讚人數」\n",
    "3. 計算熱門/非熱門文章的「平均留言人數」與「平均按讚人數」"
   ]
  },
  {
   "cell_type": "code",
   "execution_count": 37,
   "metadata": {},
   "outputs": [
    {
     "name": "stdout",
     "output_type": "stream",
     "text": [
      "一次會回傳30筆資料\n",
      "dict_keys(['id', 'title', 'excerpt', 'anonymousSchool', 'anonymousDepartment', 'pinned', 'forumId', 'replyId', 'createdAt', 'updatedAt', 'commentCount', 'likeCount', 'withNickname', 'tags', 'topics', 'meta', 'forumName', 'forumAlias', 'gender', 'school', 'department', 'replyTitle', 'mediaMeta', 'reactions', 'hidden', 'customStyle', 'isSuspiciousAccount', 'layout', 'withImages', 'withVideos', 'media', 'reportReasonText', 'postAvatar'])\n"
     ]
    }
   ],
   "source": [
    "# 1. 這個 API 一次會回傳幾筆資料？每一筆資料包含哪些欄位？\n",
    "import requests, json\n",
    "\n",
    "response = requests.get('https://www.dcard.tw/_api/forums/pet/posts?popular=true')\n",
    "responseDir = json.loads(response.text)\n",
    "#一次會回傳幾筆資料?\n",
    "print('一次會回傳%d筆資料'%len(responseDir))\n",
    "# 每一筆資料包含哪些欄位？\n",
    "print(responseDir[0].keys())"
   ]
  },
  {
   "cell_type": "code",
   "execution_count": 38,
   "metadata": {},
   "outputs": [
    {
     "name": "stdout",
     "output_type": "stream",
     "text": [
      "標題:#圖 捉姦在沙發！\n",
      "貼文時間:2019-12-06T10:36:45.348Z\n",
      "留言人數:12\n",
      "按讚人數:242\n",
      "標題:小貓 vs 哈士奇の貓狗大戰\n",
      "貼文時間:2019-12-06T05:59:13.675Z\n",
      "留言人數:6\n",
      "按讚人數:71\n",
      "標題:金鋼狼出現了！\n",
      "貼文時間:2019-12-06T06:54:49.757Z\n",
      "留言人數:0\n",
      "按讚人數:36\n",
      "標題:到底誰才是正宮！\n",
      "貼文時間:2019-12-06T06:27:08.672Z\n",
      "留言人數:0\n",
      "按讚人數:33\n",
      "標題:發現被母貓遺棄的奶貓\n",
      "貼文時間:2019-12-06T06:59:54.426Z\n",
      "留言人數:10\n",
      "按讚人數:31\n",
      "標題:這位同學你的貓被通緝了\n",
      "貼文時間:2019-12-06T00:36:50.915Z\n",
      "留言人數:7\n",
      "按讚人數:25\n",
      "標題:只是想曬貓\n",
      "貼文時間:2019-12-06T09:03:54.724Z\n",
      "留言人數:8\n",
      "按讚人數:22\n",
      "標題:急！貓咪走丟了\n",
      "貼文時間:2019-12-06T13:37:24.697Z\n",
      "留言人數:5\n",
      "按讚人數:19\n",
      "標題:當貓的 一定要會做一件事\n",
      "貼文時間:2019-12-06T14:40:52.782Z\n",
      "留言人數:1\n",
      "按讚人數:17\n",
      "標題:寵物溝通 求助\n",
      "貼文時間:2019-12-05T18:09:02.478Z\n",
      "留言人數:6\n",
      "按讚人數:15\n",
      "標題:好可愛，同學你的貓塞奶完還跑走(˶‾᷄ ⁻̫ ‾᷅˵)\n",
      "貼文時間:2019-12-06T19:30:21.516Z\n",
      "留言人數:0\n",
      "按讚人數:14\n",
      "標題:滑過略過 千萬別錯過萌獸\n",
      "貼文時間:2019-12-06T16:13:16.298Z\n",
      "留言人數:1\n",
      "按讚人數:12\n",
      "標題:雲林斗六建興路遺失黑貴賓犬\n",
      "貼文時間:2019-12-06T14:20:00.871Z\n",
      "留言人數:3\n",
      "按讚人數:12\n",
      "標題:天冷懶人包(ꐦ ´͈ ᗨ `͈ )\n",
      "貼文時間:2019-12-06T05:22:55.430Z\n",
      "留言人數:5\n",
      "按讚人數:12\n",
      "標題:泰國寵物手繪油畫\n",
      "貼文時間:2019-12-06T08:09:13.877Z\n",
      "留言人數:4\n",
      "按讚人數:11\n",
      "標題:愛你\n",
      "貼文時間:2019-12-06T00:56:48.652Z\n",
      "留言人數:0\n",
      "按讚人數:11\n",
      "標題:曬腳腳\n",
      "貼文時間:2019-12-06T13:26:57.273Z\n",
      "留言人數:3\n",
      "按讚人數:10\n",
      "標題:虎斑法鬥\n",
      "貼文時間:2019-12-06T07:32:08.907Z\n",
      "留言人數:8\n",
      "按讚人數:10\n",
      "標題:高雄小毛球送養\n",
      "貼文時間:2019-12-06T09:24:27.893Z\n",
      "留言人數:1\n",
      "按讚人數:8\n",
      "標題:交出你的貓貓(ಥ_ಥ)\n",
      "貼文時間:2019-12-06T03:30:10.814Z\n",
      "留言人數:5\n",
      "按讚人數:8\n",
      "標題:喜馬拉雅貓♡\n",
      "貼文時間:2019-12-06T16:48:15.956Z\n",
      "留言人數:0\n",
      "按讚人數:7\n",
      "標題:奴才端菜來～～（圖多）\n",
      "貼文時間:2019-12-06T16:26:19.150Z\n",
      "留言人數:5\n",
      "按讚人數:7\n",
      "標題:娃娃破壞者\n",
      "貼文時間:2019-12-06T09:30:44.558Z\n",
      "留言人數:0\n",
      "按讚人數:7\n",
      "標題:#第一張有恐怖圖 你笑起來好可愛\n",
      "貼文時間:2019-12-07T03:25:34.942Z\n",
      "留言人數:3\n",
      "按讚人數:6\n",
      "標題:#影 變冷 暖氣吹爽爽\n",
      "貼文時間:2019-12-06T08:16:37.608Z\n",
      "留言人數:0\n",
      "按讚人數:5\n",
      "標題:我的貓咪是漢堡神偷 😨\n",
      "貼文時間:2019-12-07T02:55:55.656Z\n",
      "留言人數:0\n",
      "按讚人數:4\n",
      "標題:小老鼠跟你有仇嗎=    =\n",
      "貼文時間:2019-12-07T02:45:02.748Z\n",
      "留言人數:3\n",
      "按讚人數:4\n",
      "標題:好市多狗狗睡墊\n",
      "貼文時間:2019-12-06T21:32:16.556Z\n",
      "留言人數:3\n",
      "按讚人數:4\n",
      "標題:⚠️迷你狐獴出沒\n",
      "貼文時間:2019-12-06T17:21:41.388Z\n",
      "留言人數:2\n",
      "按讚人數:4\n",
      "標題:她搶走了我媽的男人\n",
      "貼文時間:2019-12-06T13:46:40.632Z\n",
      "留言人數:1\n",
      "按讚人數:4\n"
     ]
    }
   ],
   "source": [
    "# 2. 取出每一筆資料的「標題」、「貼文時間」、「留言人數」、「按讚人數」\n",
    "\n",
    "for i in responseDir:\n",
    "    print('標題:%s'%i['title'])\n",
    "    print('貼文時間:%s'%i['createdAt'])\n",
    "    print('留言人數:%s'%i['commentCount'])\n",
    "    print('按讚人數:%s'%i['likeCount'])\n",
    "    "
   ]
  },
  {
   "cell_type": "code",
   "execution_count": 47,
   "metadata": {},
   "outputs": [
    {
     "name": "stdout",
     "output_type": "stream",
     "text": [
      "非熱門文章平均留言人數:1\n",
      "非熱門文章平均按讚人數:5\n",
      "熱門文章平均留言人數:3\n",
      "熱門文章平均按讚人數:23\n"
     ]
    }
   ],
   "source": [
    "# 3. 計算熱門/非熱門文章的「平均留言人數」與「平均按讚人數」\n",
    "\n",
    "newResponse = json.loads(requests.get('https://www.dcard.tw/_api/forums/pet/posts?popular=false').text)\n",
    "popularResponse = json.loads(requests.get('https://www.dcard.tw/_api/forums/pet/posts?popular=true').text)\n",
    "\n",
    "newResponse_comment_num = 0\n",
    "newResponse_like_num = 0\n",
    "popularResponse_comment_num = 0\n",
    "popularResponse_like_num = 0\n",
    "\n",
    "for i in newResponse:\n",
    "    newResponse_comment_num += i['commentCount']\n",
    "    newResponse_like_num += i['likeCount']\n",
    "print('非熱門文章平均留言人數:%d'%(newResponse_comment_num/len(newResponse)))\n",
    "print('非熱門文章平均按讚人數:%d'%(newResponse_like_num/len(newResponse)))\n",
    "\n",
    "\n",
    "for i in popularResponse:\n",
    "    popularResponse_comment_num += i['commentCount']\n",
    "    popularResponse_like_num += i['likeCount']\n",
    "print('熱門文章平均留言人數:%d'%(popularResponse_comment_num/len(popularResponse)))\n",
    "print('熱門文章平均按讚人數:%d'%(popularResponse_like_num/len(popularResponse)))\n"
   ]
  },
  {
   "cell_type": "code",
   "execution_count": null,
   "metadata": {},
   "outputs": [],
   "source": []
  },
  {
   "cell_type": "code",
   "execution_count": null,
   "metadata": {},
   "outputs": [],
   "source": []
  }
 ],
 "metadata": {
  "kernelspec": {
   "display_name": "Python 3",
   "language": "python",
   "name": "python3"
  },
  "language_info": {
   "codemirror_mode": {
    "name": "ipython",
    "version": 3
   },
   "file_extension": ".py",
   "mimetype": "text/x-python",
   "name": "python",
   "nbconvert_exporter": "python",
   "pygments_lexer": "ipython3",
   "version": "3.6.5"
  }
 },
 "nbformat": 4,
 "nbformat_minor": 2
}
