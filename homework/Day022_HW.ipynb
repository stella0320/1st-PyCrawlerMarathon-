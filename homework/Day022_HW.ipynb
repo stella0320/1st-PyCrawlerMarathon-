{
 "cells": [
  {
   "cell_type": "markdown",
   "metadata": {},
   "source": [
    "# 空氣污染監測網 網路爬蟲實作練習\n",
    "\n",
    "\n",
    "* 能夠利用 selenium + BeautifulSoup 撰寫爬蟲，並存放到合適的資料結構\n"
   ]
  },
  {
   "cell_type": "markdown",
   "metadata": {},
   "source": [
    "## 作業目標\n",
    "\n",
    "根據範例 ，完成以下問題：\n",
    "\n",
    "* ① 取出 台北市士林區 2018/01 – 2018/08 的 SO2 資料\n",
    "* ② 取出 台北市士林區 2018/01 – 2018/08 的 SO2、CO 資料\n",
    "\n",
    "\n",
    "\n"
   ]
  },
  {
   "cell_type": "code",
   "execution_count": 1,
   "metadata": {},
   "outputs": [],
   "source": [
    "# 打開瀏覽器\n",
    "\n",
    "from selenium import webdriver\n",
    "from selenium.webdriver.support.ui import Select\n",
    "from bs4 import BeautifulSoup\n",
    "\n",
    "browser = webdriver.Chrome(executable_path='chromedriver')\n",
    "\n",
    "browser.get(\"http://taqm.epa.gov.tw/taqm/tw/MonthlyAverage.aspx\")"
   ]
  },
  {
   "cell_type": "code",
   "execution_count": null,
   "metadata": {},
   "outputs": [],
   "source": [
    "# 模擬使用者操作行為，選擇/點擊\n",
    "\n",
    "selectSite = Select(browser.find_element_by_id(\"ctl05_ddlSite\"))\n",
    "selectSite.select_by_value('11')\n",
    "selectYear = Select(browser.find_element_by_id(\"ctl05_ddlYear\"))\n",
    "selectYear.select_by_value('2018')\n",
    "\n",
    "browser.find_element_by_id('ctl05_btnQuery').click()"
   ]
  },
  {
   "cell_type": "code",
   "execution_count": 4,
   "metadata": {},
   "outputs": [
    {
     "data": {
      "text/plain": [
       "{'SO2': {'2018/01': '1.80',\n",
       "  '2018/02': '1.90',\n",
       "  '2018/03': '2.20',\n",
       "  '2018/04': '2.30',\n",
       "  '2018/05': '3.10',\n",
       "  '2018/06': '2.70',\n",
       "  '2018/07': '2.20',\n",
       "  '2018/08': '2.40',\n",
       "  '2018/09': '2.10',\n",
       "  '2018/10': '1.70',\n",
       "  '2018/11': '1.90',\n",
       "  '2018/12': '1.80'},\n",
       " 'CO': {'2018/01': '0.34',\n",
       "  '2018/02': '0.44',\n",
       "  '2018/03': '0.40',\n",
       "  '2018/04': '0.38',\n",
       "  '2018/05': '0.34',\n",
       "  '2018/06': '0.29',\n",
       "  '2018/07': '0.21',\n",
       "  '2018/08': '0.30',\n",
       "  '2018/09': '0.26',\n",
       "  '2018/10': '0.29',\n",
       "  '2018/11': '0.30',\n",
       "  '2018/12': '0.35'},\n",
       " 'O3': {'2018/01': '33.40',\n",
       "  '2018/02': '32.50',\n",
       "  '2018/03': '35',\n",
       "  '2018/04': '38.40',\n",
       "  '2018/05': '31.60',\n",
       "  '2018/06': '29.50',\n",
       "  '2018/07': '18.70',\n",
       "  '2018/08': '26.40',\n",
       "  '2018/09': '29.10',\n",
       "  '2018/10': '45.90',\n",
       "  '2018/11': '32.40',\n",
       "  '2018/12': '30.70'},\n",
       " 'PM10': {'2018/01': '23',\n",
       "  '2018/02': '41',\n",
       "  '2018/03': '39',\n",
       "  '2018/04': '48',\n",
       "  '2018/05': '37',\n",
       "  '2018/06': '26',\n",
       "  '2018/07': '24',\n",
       "  '2018/08': '26',\n",
       "  '2018/09': '28',\n",
       "  '2018/10': '33',\n",
       "  '2018/11': '25',\n",
       "  '2018/12': '21'},\n",
       " 'NOx': {'2018/01': '14.17',\n",
       "  '2018/02': '19.43',\n",
       "  '2018/03': '18.50',\n",
       "  '2018/04': '15.24',\n",
       "  '2018/05': '15.20',\n",
       "  '2018/06': '13.79',\n",
       "  '2018/07': '11.60',\n",
       "  '2018/08': '14.75',\n",
       "  '2018/09': '12.40',\n",
       "  '2018/10': '12.45',\n",
       "  '2018/11': '13.41',\n",
       "  '2018/12': '14.56'},\n",
       " 'NO': {'2018/01': '3.41',\n",
       "  '2018/02': '4.48',\n",
       "  '2018/03': '4.93',\n",
       "  '2018/04': '2.60',\n",
       "  '2018/05': '2.26',\n",
       "  '2018/06': '2.41',\n",
       "  '2018/07': '2.68',\n",
       "  '2018/08': '2.68',\n",
       "  '2018/09': '2.41',\n",
       "  '2018/10': '2.13',\n",
       "  '2018/11': '2.71',\n",
       "  '2018/12': '3.42'},\n",
       " 'NO2': {'2018/01': '10.77',\n",
       "  '2018/02': '14.95',\n",
       "  '2018/03': '13.56',\n",
       "  '2018/04': '12.64',\n",
       "  '2018/05': '12.94',\n",
       "  '2018/06': '11.38',\n",
       "  '2018/07': '8.92',\n",
       "  '2018/08': '12.08',\n",
       "  '2018/09': '10',\n",
       "  '2018/10': '10.33',\n",
       "  '2018/11': '10.71',\n",
       "  '2018/12': '11.15'},\n",
       " 'THC': {'\\xa0': '\\xa0'},\n",
       " 'NMHC': {'\\xa0': '\\xa0'},\n",
       " 'CH4': {'\\xa0': '\\xa0'}}"
      ]
     },
     "execution_count": 4,
     "metadata": {},
     "output_type": "execute_result"
    }
   ],
   "source": [
    "html_source = browser.page_source\n",
    "soup = BeautifulSoup(html_source, 'html.parser')\n",
    "table = soup.find('table', class_='TABLE_G')\n",
    "data = {} \n",
    "\n",
    "for tr in table.find_all('tr'):\n",
    "    content = tr.find_all('td')\n",
    "    if (len(content) > 0):\n",
    "        if (len(content) == 5) :\n",
    "            title = content[0].text\n",
    "            subData = {}\n",
    "            subData[content[2].text] = content[3].text\n",
    "            data[title] = subData\n",
    "        if (len(content) == 3) :\n",
    "            subData[content[0].text] = content[1].text\n",
    "            data[title] = subData\n",
    "data"
   ]
  },
  {
   "cell_type": "markdown",
   "metadata": {},
   "source": [
    "### ① 取出 台北市士林區 2018/01 – 2018/08 的 SO2 資料"
   ]
  },
  {
   "cell_type": "code",
   "execution_count": 10,
   "metadata": {},
   "outputs": [
    {
     "name": "stdout",
     "output_type": "stream",
     "text": [
      "----SO2 data-----\n",
      "2018/01 1.80\n",
      "2018/02 1.90\n",
      "2018/03 2.20\n",
      "2018/04 2.30\n",
      "2018/05 3.10\n",
      "2018/06 2.70\n",
      "2018/07 2.20\n",
      "2018/08 2.40\n"
     ]
    }
   ],
   "source": [
    "import re\n",
    "print('----SO2 data-----')\n",
    "for d in data['SO2']:\n",
    "    pattern = re.compile(\"2018\\\\/0[1-8]\")\n",
    "    if pattern.match(d):\n",
    "        print(\"%s %s\"% (d, data['SO2'][d]))"
   ]
  },
  {
   "cell_type": "markdown",
   "metadata": {},
   "source": [
    "### ② 取出 台北市士林區 2018/01 – 2018/08 的 SO2、CO 資料"
   ]
  },
  {
   "cell_type": "code",
   "execution_count": 18,
   "metadata": {},
   "outputs": [
    {
     "name": "stdout",
     "output_type": "stream",
     "text": [
      "----SO2、CO data-----\n",
      "Date\tSO2\tCO\n",
      "2018/01\t1.80\t0.34\n",
      "2018/02\t1.90\t0.44\n",
      "2018/03\t2.20\t0.40\n",
      "2018/04\t2.30\t0.38\n",
      "2018/05\t3.10\t0.34\n",
      "2018/06\t2.70\t0.29\n",
      "2018/07\t2.20\t0.21\n",
      "2018/08\t2.40\t0.30\n"
     ]
    }
   ],
   "source": [
    "print('----SO2、CO data-----')\n",
    "print('Date\\tSO2\\tCO')\n",
    "for d in data['CO']:\n",
    "    pattern = re.compile(\"2018\\\\/0[1-8]\")\n",
    "    if pattern.match(d):\n",
    "        print(\"%s\\t%s\\t%s\"% (d, data['SO2'][d], data['CO'][d]))"
   ]
  },
  {
   "cell_type": "code",
   "execution_count": null,
   "metadata": {},
   "outputs": [],
   "source": []
  }
 ],
 "metadata": {
  "kernelspec": {
   "display_name": "Python 3",
   "language": "python",
   "name": "python3"
  },
  "language_info": {
   "codemirror_mode": {
    "name": "ipython",
    "version": 3
   },
   "file_extension": ".py",
   "mimetype": "text/x-python",
   "name": "python",
   "nbconvert_exporter": "python",
   "pygments_lexer": "ipython3",
   "version": "3.6.5"
  }
 },
 "nbformat": 4,
 "nbformat_minor": 2
}
