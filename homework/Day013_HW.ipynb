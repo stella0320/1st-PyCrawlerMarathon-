{
 "cells": [
  {
   "cell_type": "markdown",
   "metadata": {},
   "source": [
    "# PTT 網路爬蟲實作練習\n",
    "\n",
    "\n",
    "* 能夠利用 Request + BeatifulSour 撰寫爬蟲，並存放到合適的資料結構\n"
   ]
  },
  {
   "cell_type": "markdown",
   "metadata": {},
   "source": [
    "## 作業目標\n",
    "\n",
    "根據範例 ，完成以下問題：\n",
    "\n",
    "* ① 印出最新文章的「作者」「標題」「時間」\n",
    "* ② 印出第一頁所有文章的「作者」「標題」「時間」\n"
   ]
  },
  {
   "cell_type": "markdown",
   "metadata": {},
   "source": [
    "### ① 印出最新文章的「作者」「標題」「時間」"
   ]
  },
  {
   "cell_type": "code",
   "execution_count": 12,
   "metadata": {},
   "outputs": [
    {
     "name": "stdout",
     "output_type": "stream",
     "text": [
      "except\n",
      "作者SAC430 (sac430)\n",
      "標題[新聞] NBA戰術板 居然MADE IN TAIWAN\n",
      "時間Tue Dec 10 19:44:46 2019\n",
      "作者humbler (獸人H)\n",
      "標題[討論] 人們將追逐 Bogdan Bogdanovic\n",
      "時間Tue Dec 10 19:54:19 2019\n",
      "作者KevinLove (Kevin Love)\n",
      "標題[討論] 哪隻奪冠球隊適合Kevin Love\n",
      "時間Tue Dec 10 20:48:54 2019\n",
      "作者Angel0724 (ND5)\n",
      "標題[新聞] 保羅遭火箭隊交易 安東尼：曾叫他要小心\n",
      "時間Tue Dec 10 21:05:54 2019\n",
      "作者MrSatan (老大!!!!!!!!)\n",
      "標題Re: [討論] AD現在有比巔峰KG強嗎？(數據)\n",
      "時間Tue Dec 10 21:37:39 2019\n",
      "作者iammatrix ()\n",
      "標題Re: [討論] AD現在有比巔峰KG強嗎？\n",
      "時間Tue Dec 10 21:51:16 2019\n",
      "作者Vedan (味丹)\n",
      "標題[公告] 樂透取消及未來不再開啟樂透\n",
      "時間Mon Jun 24 15:08:02 2019\n",
      "作者qazwsx879345 (Rajon Rondo)\n",
      "標題[公告] 版主上任相關事項\n",
      "時間Fri Oct 25 10:44:03 2019\n",
      "作者JerroLi (銀色小刀)\n",
      "標題[情報] SEASON Schedule 賽程 December 19–20\n",
      "時間Fri Nov 29 00:46:01 2019\n",
      "作者dragon803 (好想去露營啊~)\n",
      "標題[公告]是否禁止basketball top 5文章投票開始\n",
      "時間Sun Dec  8 23:55:00 2019\n"
     ]
    }
   ],
   "source": [
    "import requests\n",
    "from bs4 import BeautifulSoup\n",
    "\n",
    "url = 'https://www.ptt.cc/bbs/NBA/index.html'\n",
    "response = requests.get(url)\n",
    "mainHtml = BeautifulSoup(response.text, 'lxml')\n",
    "\n",
    "for d in mainHtml.find_all(class_=\"title\"):\n",
    "    try:\n",
    "        r = BeautifulSoup(requests.get('https://www.ptt.cc'+d.find('a')['href']).text, \"html5lib\")\n",
    "        for j in r.find_all(class_='article-metaline'):\n",
    "            print(j.text)\n",
    "    except:\n",
    "        print('except')\n",
    "        continue"
   ]
  },
  {
   "cell_type": "markdown",
   "metadata": {},
   "source": [
    "### ② 印出第一頁所有文章的「作者」「標題」「時間」"
   ]
  },
  {
   "cell_type": "code",
   "execution_count": 22,
   "metadata": {},
   "outputs": [
    {
     "name": "stdout",
     "output_type": "stream",
     "text": [
      "------\n",
      "作者Price (Price)\n",
      "標題[轉錄]Lyotard 對於太陽板討論串的結論\n",
      "時間Sun May 16 01:54:33 2004\n",
      "------\n",
      "作者Price (Price)\n",
      "標題[公告] 請停止一切關於本次活動的發言\n",
      "時間Mon May 24 00:43:00 2004\n",
      "------\n",
      "作者Frankaze (神采風華)\n",
      "標題[轉錄]跟之前那篇比起來 我覺得這篇也應該轉過來\n",
      "時間Tue Jun  8 01:16:45 2004\n",
      "------\n",
      "作者Frankaze (神采風華)\n",
      "標題[轉錄]再轉一篇好文來\n",
      "時間Tue Jun  8 09:02:23 2004\n",
      "------\n",
      "作者Price (Price)\n",
      "標題[轉錄][情報] 夏洛特山貓系列\n",
      "時間Thu Jun 10 00:39:35 2004\n",
      "------\n",
      "作者Price (Price)\n",
      "標題[轉錄]Re: [心得] 真是受不了糗爺....\n",
      "時間Thu Jun 10 00:51:35 2004\n",
      "------\n",
      "作者Price (Price)\n",
      "標題[轉錄]總冠軍賽NO.2觀後感\n",
      "時間Thu Jun 10 12:05:07 2004\n",
      "------\n",
      "作者AmuroNamie (原來太嗨真的會失眠^___^)\n",
      "標題[心得] Rasheed Wallace\n",
      "時間Fri Jun 11 15:06:09 2004\n",
      "------\n",
      "作者toptree (  )\n",
      "標題掌控球賽的男人\n",
      "時間Sat Jun 12 07:13:04 2004\n",
      "------\n",
      "作者skchang (3EB板開板囉！)\n",
      "標題[閒聊] 說說2004季後賽名場面回顧\n",
      "時間Sat Jun 12 13:21:49 2004\n",
      "------\n",
      "作者shineup ()\n",
      "標題[心得] 其實說穿了 就是活塞的防守太可怕了\n",
      "時間Sat Jun 12 13:12:47 2004\n",
      "------\n",
      "作者cOvi (喵~)\n",
      "標題Re: [閒聊] 說說2004季後賽名場面回顧\n",
      "時間Sat Jun 12 16:43:07 2004\n",
      "------\n",
      "作者ykshih (￼N￼Ns)\n",
      "標題Re: [閒聊] 說說2004季後賽名場面回顧\n",
      "時間Sat Jun 12 17:26:37 2004\n",
      "------\n",
      "作者Frankaze (神采風華)\n",
      "標題Re: [閒聊] 說說2004季後賽名場面回顧\n",
      "時間Sat Jun 12 18:34:46 2004\n",
      "------\n",
      "作者Price (Price)\n",
      "標題[轉錄]Re: 總冠軍賽NO.3觀後感\n",
      "時間Mon Jun 14 02:18:52 2004\n",
      "------\n",
      "作者Frankaze (神采風華)\n",
      "標題[轉錄]Re: 總冠軍賽NO.3觀後感\n",
      "時間Mon Jun 14 02:34:33 2004\n",
      "------\n",
      "作者star1 (第一次魔術表演不算成功)\n",
      "標題Re: [轉錄]Re: 總冠軍賽NO.3觀後感\n",
      "時間Mon Jun 14 07:16:30 2004\n",
      "------\n",
      "作者coldspring (笑笑)\n",
      "標題Re: [轉錄]Re: 總冠軍賽NO.3觀後感\n",
      "時間Mon Jun 14 09:24:57 2004\n",
      "------\n",
      "作者airbear (地圖)\n",
      "標題Re: Kobe is frustrated...\n",
      "時間Mon Jun 14 12:56:14 2004\n",
      "------\n",
      "作者pennykidd (andre)\n",
      "標題Re: [轉錄]Re: 總冠軍賽NO.3觀後感\n",
      "時間Mon Jun 14 22:07:01 2004\n"
     ]
    }
   ],
   "source": [
    "url = 'https://www.ptt.cc/bbs/NBA/index1.html'\n",
    "response = requests.get(url)\n",
    "mainHtml = BeautifulSoup(response.text, 'lxml')\n",
    "\n",
    "for d in mainHtml.find_all(class_=\"title\"):\n",
    "    try:\n",
    "        r = BeautifulSoup(requests.get('https://www.ptt.cc'+d.find('a')['href']).text, \"html5lib\")\n",
    "        print('------')\n",
    "        for j in r.find_all(class_='article-metaline'):\n",
    "            print(j.text)\n",
    "    except:\n",
    "        print('except')\n",
    "        continue\n"
   ]
  },
  {
   "cell_type": "markdown",
   "metadata": {},
   "source": [
    "### ③ 試著爬爬看其他版的文章"
   ]
  },
  {
   "cell_type": "code",
   "execution_count": 23,
   "metadata": {},
   "outputs": [
    {
     "name": "stdout",
     "output_type": "stream",
     "text": [
      "------\n",
      "作者x820306 (序章)\n",
      "標題[心得] 2019台北耳機祭玩家攤參展心得+雜談\n",
      "時間Tue Dec 10 15:27:19 2019\n",
      "except\n",
      "------\n",
      "作者HMAS (你的課題)\n",
      "標題[請益] 取得5000combo後的升級選項\n",
      "時間Tue Dec 10 15:39:03 2019\n",
      "------\n",
      "作者Akitsukineko (跌死的貓 Death the Neko)\n",
      "標題[情報] Master & Dynamic MW60特價219.98\n",
      "時間Tue Dec 10 16:28:14 2019\n",
      "------\n",
      "作者jimmy70502 (Kzero)\n",
      "標題[問題] 尋求遊戲+音樂耳機預算20K\n",
      "時間Tue Dec 10 17:04:33 2019\n",
      "------\n",
      "作者b020193251 (MR.grado)\n",
      "標題[交易] Jabra Elite 75t黑色公司貨團體預購特價\n",
      "時間Tue Dec 10 17:59:04 2019\n",
      "------\n",
      "作者lyra8608 (Lyra)\n",
      "標題[團購] Westone W40 & W60\n",
      "時間Tue Dec 10 19:03:17 2019\n",
      "------\n",
      "作者Wizarc (Wizarc)\n",
      "標題[交易] 賣-全國-皆可 BGVP DM7 曜石黑 耳道式\n",
      "時間Tue Dec 10 19:30:58 2019\n",
      "------\n",
      "作者zoraruru (ruru)\n",
      "標題[心得] Massdrop X Focal Elex開箱心得悲劇文\n",
      "時間Tue Dec 10 21:01:35 2019\n",
      "------\n",
      "作者alanswill (Air)\n",
      "標題[心得] NW A100TPS使用心得\n",
      "時間Tue Dec 10 21:40:42 2019\n",
      "------\n",
      "作者zabonyuzu (白日夢發電)\n",
      "標題[公告] 耳機板板規 (2015.3.10)\n",
      "時間Tue Mar 10 20:15:59 2015\n",
      "------\n",
      "作者zabonyuzu (Dolphin Omega)\n",
      "標題[問題] 置底推文交易\n",
      "時間Sun Jul  1 04:58:40 2018\n",
      "------\n",
      "作者charley1204 (北☆極☆星)\n",
      "標題[閒聊] 加煒 IER-M9 被調包\n",
      "時間Sat Nov 30 23:42:38 2019\n"
     ]
    }
   ],
   "source": [
    "url = 'https://www.ptt.cc/bbs/Headphone/index.html'\n",
    "response = requests.get(url)\n",
    "mainHtml = BeautifulSoup(response.text, 'lxml')\n",
    "\n",
    "for d in mainHtml.find_all(class_=\"title\"):\n",
    "    try:\n",
    "        r = BeautifulSoup(requests.get('https://www.ptt.cc'+d.find('a')['href']).text, \"html5lib\")\n",
    "        print('------')\n",
    "        for j in r.find_all(class_='article-metaline'):\n",
    "            print(j.text)\n",
    "    except:\n",
    "        print('except')\n",
    "        continue"
   ]
  },
  {
   "cell_type": "code",
   "execution_count": null,
   "metadata": {},
   "outputs": [],
   "source": []
  }
 ],
 "metadata": {
  "kernelspec": {
   "display_name": "Python 3",
   "language": "python",
   "name": "python3"
  },
  "language_info": {
   "codemirror_mode": {
    "name": "ipython",
    "version": 3
   },
   "file_extension": ".py",
   "mimetype": "text/x-python",
   "name": "python",
   "nbconvert_exporter": "python",
   "pygments_lexer": "ipython3",
   "version": "3.6.5"
  }
 },
 "nbformat": 4,
 "nbformat_minor": 2
}
